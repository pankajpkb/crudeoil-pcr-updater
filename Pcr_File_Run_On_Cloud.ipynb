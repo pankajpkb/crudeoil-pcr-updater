{
 "cells": [
  {
   "cell_type": "markdown",
   "id": "eb6b02fd",
   "metadata": {},
   "source": [
    "# new Code tested only pcr update"
   ]
  },
  {
   "cell_type": "code",
   "execution_count": 1,
   "id": "0a527bfb",
   "metadata": {},
   "outputs": [
    {
     "name": "stdout",
     "output_type": "stream",
     "text": [
      "✅ Background updates started. Notebook is free to use. Press Ctrl+C in terminal to stop if needed.\n",
      "Updating data at 23:38:05 IST\n"
     ]
    },
    {
     "name": "stderr",
     "output_type": "stream",
     "text": [
      "[I 251015 23:38:05 smartConnect:124] in pool\n"
     ]
    },
    {
     "name": "stdout",
     "output_type": "stream",
     "text": [
      "✅ 23:38:10 | CRUDEOILM20OCT25FUT OHLC data fetched successfully\n",
      "✅ OHLC data written to Google Sheet 'CrudeoilM_Data_Live' at row 629\n",
      "OHLC: Open=5143.0, High=5143.0, Low=5143.0, Close=5143.0\n",
      "✅ PCR data written to Google Sheet 'PCR_Data_Live' at row 158\n",
      "PCR: -1.43 | Put Change OI: -5,901 | Call Change OI: 4,117 | Close Price: 5143.0 | Price Change: 0\n",
      "Updating data at 23:39:05 IST\n"
     ]
    },
    {
     "name": "stderr",
     "output_type": "stream",
     "text": [
      "[I 251015 23:39:05 smartConnect:124] in pool\n"
     ]
    },
    {
     "name": "stdout",
     "output_type": "stream",
     "text": [
      "✅ 23:39:10 | CRUDEOILM20OCT25FUT OHLC data fetched successfully\n",
      "✅ OHLC data written to Google Sheet 'CrudeoilM_Data_Live' at row 630\n",
      "OHLC: Open=5143.0, High=5143.0, Low=5143.0, Close=5143.0\n",
      "✅ PCR data written to Google Sheet 'PCR_Data_Live' at row 159\n",
      "PCR: -1.43 | Put Change OI: -5,901 | Call Change OI: 4,117 | Close Price: 5143.0 | Price Change: 0.0\n"
     ]
    }
   ],
   "source": [
    "import requests\n",
    "from bs4 import BeautifulSoup\n",
    "import pandas as pd\n",
    "import time\n",
    "from datetime import datetime, timedelta\n",
    "import re\n",
    "import gspread\n",
    "from oauth2client.service_account import ServiceAccountCredentials\n",
    "import threading\n",
    "\n",
    "# === PCR URL and Headers ===\n",
    "pcr_url = \"https://niftyinvest.com/put-call-ratio/CRUDEOILM\"\n",
    "headers = {\n",
    "    \"User-Agent\": \"Mozilla/5.0 (Windows NT 10.0; Win64; x64) AppleWebKit/537.36 (KHTML, like Gecko) Chrome/91.0.4472.124 Safari/537.36\"\n",
    "}\n",
    "\n",
    "# === Store last values for PCR calculations ===\n",
    "last_values = {\"put_oi\": None, \"call_oi\": None, \"pcr\": None}\n",
    "\n",
    "# === Google Sheets Setup ===\n",
    "scope = [\"https://spreadsheets.google.com/feeds\", \"https://www.googleapis.com/auth/drive\"]\n",
    "creds = ServiceAccountCredentials.from_json_keyfile_name(\"C:\\\\Users\\\\Pankaj\\\\Desktop\\\\python\\\\credentials.json\", scope)\n",
    "client = gspread.authorize(creds)\n",
    "sheet_pcr = client.open(\"CrudeOil_PCR_Live_Data\").worksheet(\"PCR_Data_Live\")\n",
    "\n",
    "# === Function to fetch PCR data ===\n",
    "def fetch_pcr_data():\n",
    "    try:\n",
    "        response = requests.get(pcr_url, headers=headers, timeout=10)\n",
    "        response.raise_for_status()\n",
    "        soup = BeautifulSoup(response.text, \"html.parser\")\n",
    "        page_text = soup.get_text()\n",
    "\n",
    "        if not page_text or len(page_text.strip()) == 0:\n",
    "            print(\"Error: Empty or invalid page content retrieved.\")\n",
    "            return None\n",
    "\n",
    "        # Regex patterns\n",
    "        put_oi_pattern = r\"Intraday\\s*Put\\s*Change\\s*OI\\s*([+-]?\\d{1,3}(?:,\\d{3})*)|Put\\s*Change\\s*OI\\s*([+-]?\\d{1,3}(?:,\\d{3})*)\"\n",
    "        call_oi_pattern = r\"Intraday\\s*Call\\s*Change\\s*OI\\s*([+-]?\\d{1,3}(?:,\\d{3})*)|Call\\s*Change\\s*OI\\s*([+-]?\\d{1,3}(?:,\\d{3})*)\"\n",
    "        intraday_pcr_pattern = r\"Intraday\\s*PCR\\s*([+-]?\\d\\.\\d{2})\"\n",
    "\n",
    "        # Extract values\n",
    "        put_oi_match = re.search(put_oi_pattern, page_text)\n",
    "        call_oi_match = re.search(call_oi_pattern, page_text)\n",
    "        intraday_pcr_match = re.search(intraday_pcr_pattern, page_text)\n",
    "\n",
    "        put_oi = int((put_oi_match.group(1) or put_oi_match.group(2)).replace(',', '')) if put_oi_match else -9233\n",
    "        call_oi = int((call_oi_match.group(1) or call_oi_match.group(2)).replace(',', '')) if call_oi_match else 34770\n",
    "        intraday_pcr = intraday_pcr_match.group(1) if intraday_pcr_match else \"-0.27\"\n",
    "\n",
    "        # Trend detection\n",
    "        timestamp = datetime.now().strftime(\"%Y-%m-%d %H:%M:%S IST\")\n",
    "        intraday_pcr_float = float(intraday_pcr)\n",
    "        trend = \"Bearish Trend\" if intraday_pcr_float <= 0.8 else \"Bullish Trend\" if intraday_pcr_float >= 1.2 else \"Neutral Trend\"\n",
    "\n",
    "        abs_put = abs(put_oi)\n",
    "        abs_call = abs(call_oi)\n",
    "        if abs_call > abs_put:\n",
    "            change_percent = f\"Call Change OI is higher by {((abs_call - abs_put) / abs_put * 100 if abs_put > 0 else 0):.2f}%\"\n",
    "        elif abs_put > abs_call:\n",
    "            change_percent = f\"Put Change OI is higher by {((abs_put - abs_call) / abs_call * 100 if abs_call > 0 else 0):.2f}%\"\n",
    "        else:\n",
    "            change_percent = \"Both are equal (0%)\"\n",
    "\n",
    "        # Calculate changes\n",
    "        put_change = put_oi - last_values[\"put_oi\"] if last_values[\"put_oi\"] is not None else 0\n",
    "        call_change = call_oi - last_values[\"call_oi\"] if last_values[\"call_oi\"] is not None else 0\n",
    "        pcr_change = intraday_pcr_float - last_values[\"pcr\"] if last_values[\"pcr\"] is not None else 0\n",
    "\n",
    "        # Update last values\n",
    "        last_values[\"put_oi\"] = put_oi\n",
    "        last_values[\"call_oi\"] = call_oi\n",
    "        last_values[\"pcr\"] = intraday_pcr_float\n",
    "\n",
    "        # Create DataFrame\n",
    "        new_data = {\n",
    "            \"Timestamp\": [timestamp],\n",
    "            \"Intraday Put Change OI\": [f\"{put_oi:,}\"],\n",
    "            \"Put Change\": [f\"{put_change:,}\"],\n",
    "            \"Intraday Call Change OI\": [f\"{call_oi:,}\"],\n",
    "            \"Call Change\": [f\"{call_change:,}\"],\n",
    "            \"Change %\": [change_percent],\n",
    "            \"Intraday PCR\": [intraday_pcr],\n",
    "            \"Pcr Change\": [f\"{pcr_change:.2f}\"],\n",
    "            \"Trend\": [trend],\n",
    "            \"Observation\": [f\"PCR {intraday_pcr} indicates {trend.lower()}. Market sentiment shifting towards {trend.lower()}.\"]\n",
    "        }\n",
    "        return pd.DataFrame(new_data)\n",
    "    except Exception as e:\n",
    "        print(f\"❌ Error in fetch_pcr_data: {e}\")\n",
    "        return None\n",
    "\n",
    "# === Function to update only PCR data in Google Sheet ===\n",
    "def update_google_sheets():\n",
    "    pcr_df = fetch_pcr_data()\n",
    "    if pcr_df is not None:\n",
    "        try:\n",
    "            gsheet_pcr_last_row = len(sheet_pcr.col_values(1)) + 1\n",
    "            if gsheet_pcr_last_row == 1:\n",
    "                sheet_pcr.update(values=[[\"Timestamp\", \"Intraday Put Change OI\", \"Put Change\", \"Intraday Call Change OI\", \n",
    "                                         \"Call Change\", \"Change %\", \"Intraday PCR\", \"Pcr Change\", \"Trend\", \"Observation\"]],\n",
    "                                 range_name=\"A1:J1\")\n",
    "                gsheet_pcr_last_row += 1\n",
    "            sheet_pcr.update(values=[pcr_df.values[0].tolist()],\n",
    "                             range_name=f\"A{gsheet_pcr_last_row}:J{gsheet_pcr_last_row}\")\n",
    "            print(f\"✅ PCR data written to Google Sheet 'PCR_Data_Live' at row {gsheet_pcr_last_row}\")\n",
    "            print(f\"PCR: {pcr_df['Intraday PCR'][0]} | Put OI: {pcr_df['Intraday Put Change OI'][0]} | Call OI: {pcr_df['Intraday Call Change OI'][0]}\")\n",
    "        except Exception as e:\n",
    "            print(f\"❌ Error updating PCR Google Sheet: {e}\")\n",
    "\n",
    "# === Background Thread Function ===\n",
    "def background_update():\n",
    "    while True:\n",
    "        now = datetime.now()\n",
    "        next_minute = (now + timedelta(minutes=1)).replace(second=0, microsecond=0)\n",
    "        next_time = next_minute + timedelta(seconds=5)\n",
    "        wait_time = (next_time - now).total_seconds()\n",
    "        time.sleep(wait_time)\n",
    "        print(f\"Updating PCR data at {datetime.now().strftime('%H:%M:%S IST')}\")\n",
    "        update_google_sheets()\n",
    "\n",
    "# === Start Background Thread ===\n",
    "thread = threading.Thread(target=background_update, daemon=True)\n",
    "thread.start()\n",
    "print(\"✅ Background PCR updates started. Notebook is free to use. Press Ctrl+C in terminal to stop if needed.\")\n"
   ]
  },
  {
   "cell_type": "code",
   "execution_count": null,
   "id": "81b90216",
   "metadata": {},
   "outputs": [],
   "source": []
  }
 ],
 "metadata": {
  "kernelspec": {
   "display_name": "Python 3 (ipykernel)",
   "language": "python",
   "name": "python3"
  },
  "language_info": {
   "codemirror_mode": {
    "name": "ipython",
    "version": 3
   },
   "file_extension": ".py",
   "mimetype": "text/x-python",
   "name": "python",
   "nbconvert_exporter": "python",
   "pygments_lexer": "ipython3",
   "version": "3.8.20"
  }
 },
 "nbformat": 4,
 "nbformat_minor": 5
}
